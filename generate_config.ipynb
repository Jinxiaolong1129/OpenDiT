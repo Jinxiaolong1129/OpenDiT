{
 "cells": [
  {
   "cell_type": "code",
   "execution_count": 1,
   "metadata": {},
   "outputs": [
    {
     "name": "stdout",
     "output_type": "stream",
     "text": [
      "\"[3, 5, 5, 5, 5, 5, 5, 5, 5, 5]\"\n",
      "\"[5, 3, 5, 5, 5, 5, 5, 5, 5, 5]\"\n",
      "\"[5, 5, 3, 5, 5, 5, 5, 5, 5, 5]\"\n",
      "\"[5, 5, 5, 3, 5, 5, 5, 5, 5, 5]\"\n",
      "\"[5, 5, 5, 5, 3, 5, 5, 5, 5, 5]\"\n",
      "\"[5, 5, 5, 5, 5, 3, 5, 5, 5, 5]\"\n",
      "\"[5, 5, 5, 5, 5, 5, 3, 5, 5, 5]\"\n",
      "\"[5, 5, 5, 5, 5, 5, 5, 3, 5, 5]\"\n",
      "\"[5, 5, 5, 5, 5, 5, 5, 5, 3, 5]\"\n",
      "\"[5, 5, 5, 5, 5, 5, 5, 5, 5, 3]\"\n"
     ]
    }
   ],
   "source": [
    "def generate_strings():\n",
    "    result = []\n",
    "    for i in range(10):\n",
    "        lst = [5] * 10\n",
    "        lst[i] = 3\n",
    "        result.append(str(lst))\n",
    "    return result\n",
    "\n",
    "strings = generate_strings()\n",
    "for s in strings:\n",
    "    print(f'\"{s}\"')\n"
   ]
  },
  {
   "cell_type": "code",
   "execution_count": 3,
   "metadata": {},
   "outputs": [
    {
     "name": "stdout",
     "output_type": "stream",
     "text": [
      "\"[3, 3, 5, 5, 5, 5, 5, 5, 5, 5]\"\n",
      "\"[5, 3, 3, 5, 5, 5, 5, 5, 5, 5]\"\n",
      "\"[5, 5, 3, 3, 5, 5, 5, 5, 5, 5]\"\n",
      "\"[5, 5, 5, 3, 3, 5, 5, 5, 5, 5]\"\n",
      "\"[5, 5, 5, 5, 3, 3, 5, 5, 5, 5]\"\n",
      "\"[5, 5, 5, 5, 5, 3, 3, 5, 5, 5]\"\n",
      "\"[5, 5, 5, 5, 5, 5, 3, 3, 5, 5]\"\n",
      "\"[5, 5, 5, 5, 5, 5, 5, 3, 3, 5]\"\n",
      "\"[5, 5, 5, 5, 5, 5, 5, 5, 3, 3]\"\n"
     ]
    }
   ],
   "source": [
    "def generate_strings():\n",
    "    result = []\n",
    "    for i in range(9):  # 由于3需要连续，占用两个位置，所以范围为9\n",
    "        lst = [5] * 10\n",
    "        lst[i] = 3\n",
    "        lst[i + 1] = 3\n",
    "        result.append(str(lst))\n",
    "    return result\n",
    "\n",
    "strings = generate_strings()\n",
    "for s in strings:\n",
    "    print(f'\"{s}\"')\n"
   ]
  },
  {
   "cell_type": "code",
   "execution_count": 4,
   "metadata": {},
   "outputs": [
    {
     "name": "stdout",
     "output_type": "stream",
     "text": [
      "\"[4, 4, 4, 5, 5, 5, 5, 5, 5, 5]\"\n",
      "\"[5, 4, 4, 4, 5, 5, 5, 5, 5, 5]\"\n",
      "\"[5, 5, 4, 4, 4, 5, 5, 5, 5, 5]\"\n",
      "\"[5, 5, 5, 4, 4, 4, 5, 5, 5, 5]\"\n",
      "\"[5, 5, 5, 5, 4, 4, 4, 5, 5, 5]\"\n",
      "\"[5, 5, 5, 5, 5, 4, 4, 4, 5, 5]\"\n",
      "\"[5, 5, 5, 5, 5, 5, 4, 4, 4, 5]\"\n",
      "\"[5, 5, 5, 5, 5, 5, 5, 4, 4, 4]\"\n"
     ]
    },
    {
     "ename": "",
     "evalue": "",
     "output_type": "error",
     "traceback": [
      "\u001b[1;31mThe Kernel crashed while executing code in the current cell or a previous cell. \n",
      "\u001b[1;31mPlease review the code in the cell(s) to identify a possible cause of the failure. \n",
      "\u001b[1;31mClick <a href='https://aka.ms/vscodeJupyterKernelCrash'>here</a> for more info. \n",
      "\u001b[1;31mView Jupyter <a href='command:jupyter.viewOutput'>log</a> for further details."
     ]
    }
   ],
   "source": [
    "def generate_strings():\n",
    "    result = []\n",
    "    for i in range(8):  # 由于3需要连续，占用两个位置，所以范围为9\n",
    "        lst = [5] * 10\n",
    "        lst[i] = 4\n",
    "        lst[i + 1] = 4\n",
    "        lst[i + 2] = 4\n",
    "        result.append(str(lst))\n",
    "    return result\n",
    "\n",
    "strings = generate_strings()\n",
    "for s in strings:\n",
    "    print(f'\"{s}\"')\n"
   ]
  },
  {
   "cell_type": "code",
   "execution_count": null,
   "metadata": {},
   "outputs": [],
   "source": []
  }
 ],
 "metadata": {
  "kernelspec": {
   "display_name": "opendit",
   "language": "python",
   "name": "python3"
  },
  "language_info": {
   "codemirror_mode": {
    "name": "ipython",
    "version": 3
   },
   "file_extension": ".py",
   "mimetype": "text/x-python",
   "name": "python",
   "nbconvert_exporter": "python",
   "pygments_lexer": "ipython3",
   "version": "3.10.14"
  }
 },
 "nbformat": 4,
 "nbformat_minor": 2
}
